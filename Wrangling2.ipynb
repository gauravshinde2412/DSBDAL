{
 "cells": [
  {
   "cell_type": "code",
   "execution_count": 1,
   "id": "6df22c62",
   "metadata": {},
   "outputs": [],
   "source": [
    "import pandas as pd"
   ]
  },
  {
   "cell_type": "code",
   "execution_count": 2,
   "id": "53590dc3",
   "metadata": {},
   "outputs": [],
   "source": [
    "import numpy as np"
   ]
  },
  {
   "cell_type": "code",
   "execution_count": null,
   "id": "74601a28",
   "metadata": {},
   "outputs": [],
   "source": [
    "df=read_csv(\"academic\")\n",
    "df.isna()\n",
    "df.dropna()\n",
    "df.fillna(anyvalue)\n",
    "\n",
    "#outlier\n",
    "df.boxplot()\n",
    "newdf=df[df[\"math score\"]>20]\n",
    "newdf\n",
    "newdf.boxplot()\n",
    "\n",
    "skewness\n",
    "df[\"math score\"].plot(kind='hist')\n",
    "df['log math']=np.log10(df['math score'])\n",
    "df['log math'.plot(kind='hist')]"
   ]
  }
 ],
 "metadata": {
  "kernelspec": {
   "display_name": "Python 3 (ipykernel)",
   "language": "python",
   "name": "python3"
  },
  "language_info": {
   "codemirror_mode": {
    "name": "ipython",
    "version": 3
   },
   "file_extension": ".py",
   "mimetype": "text/x-python",
   "name": "python",
   "nbconvert_exporter": "python",
   "pygments_lexer": "ipython3",
   "version": "3.9.13"
  }
 },
 "nbformat": 4,
 "nbformat_minor": 5
}
